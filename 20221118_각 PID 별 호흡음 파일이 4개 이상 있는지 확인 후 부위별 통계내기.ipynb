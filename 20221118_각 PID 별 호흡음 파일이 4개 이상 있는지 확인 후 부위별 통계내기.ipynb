{
 "cells": [
  {
   "cell_type": "code",
   "execution_count": null,
   "metadata": {},
   "outputs": [],
   "source": [
    "def replace_in_file(file_path, old_str, new_str):\n",
    "    # 파일 읽어들이기\n",
    "    fr = open(file_path, 'r')\n",
    "    lines = fr.readlines()\n",
    "    fr.close()\n",
    "    \n",
    "    # old_str -> new_str 치환\n",
    "    fw = open(file_path, 'w')\n",
    "    for line in lines:\n",
    "        fw.write(line.replace(old_str, new_str))\n",
    "    fw.close()"
   ]
  },
  {
   "cell_type": "code",
   "execution_count": null,
   "metadata": {},
   "outputs": [],
   "source": [
    "import os\n",
    "import shutil\n",
    "import numpy as np\n",
    "\n",
    "respiratory_dir = \"./4_smartsound_respiratory_sound/\""
   ]
  },
  {
   "cell_type": "code",
   "execution_count": null,
   "metadata": {},
   "outputs": [],
   "source": [
    "# 각 PID 별 호흡음 파일이 4개 이상 있는지 확인\n",
    "\n",
    "for rf in os.listdir(respiratory_dir):\n",
    "    sub_dir = os.path.join(respiratory_dir, rf)\n",
    "    #print(\"sub_dir\", sub_dir) # ./1_yoingin_respiratory_sound/rs_10001_01\n",
    "    wav_file_num = 0\n",
    "    if len(os.listdir(sub_dir)) == 0:\n",
    "        print(\"no file exists\", rf) # 폴더에 파일이 아예 없다면...\n",
    "    for file in os.listdir(sub_dir):\n",
    "        #print(file[-3:]) # wav\n",
    "        if file[-3:] == \"wav\":\n",
    "            wav_file_num += 1\n",
    "        else:\n",
    "            print(file) # 파일 확장명이 wav가 아니면 파일명 출력\n",
    "        if file == os.listdir(sub_dir)[-1] and wav_file_num < 4:\n",
    "            print(\"less than 4 wav files\", rf) # 호흡음 파일이 4개 미만이라면 출력\n",
    "    if (wav_file_num == 12): # 호흡음 파일이 12개라면 출력\n",
    "        print(rf)"
   ]
  },
  {
   "cell_type": "code",
   "execution_count": null,
   "metadata": {},
   "outputs": [],
   "source": [
    "# open excel file\n",
    "from openpyxl import load_workbook\n",
    "\n",
    "wb_file_name = \"4_smartsound_respiratory_sound\"\n",
    "\n",
    "wb = load_workbook(wb_file_name + \".xlsx\" , data_only=True )\n",
    "ws = wb.active\n",
    "\n",
    "# print excel file (엑셀 내용 출력)\n",
    "row_num = 1 # excel row number\n",
    "for row in ws.values:\n",
    "    print(row_num, \"\\t\", end='')\n",
    "    for i in range(len(row)):\n",
    "        print(row[i], \"\\t\", end='')\n",
    "    row_num += 1"
   ]
  },
  {
   "cell_type": "code",
   "execution_count": null,
   "metadata": {
    "scrolled": true
   },
   "outputs": [],
   "source": [
    "# 표의 첫번째 줄 first_row에 넣기\n",
    "\n",
    "first_row = []\n",
    "for row in ws.values:\n",
    "    for i in range(len(row)):\n",
    "        first_row.append(row[i])\n",
    "print(first_row)"
   ]
  },
  {
   "cell_type": "code",
   "execution_count": null,
   "metadata": {},
   "outputs": [],
   "source": [
    "for i in range(len(first_row)):\n",
    "        print(first_row[i], \"\\t\", end='')"
   ]
  },
  {
   "cell_type": "code",
   "execution_count": null,
   "metadata": {},
   "outputs": [],
   "source": [
    "# file[-8:-4] 이 부위 이름이 아니라면 not a part 출력\n",
    "\n",
    "for rf in os.listdir(respiratory_dir):\n",
    "    sub_dir = os.path.join(respiratory_dir, rf)\n",
    "    for file in os.listdir(sub_dir):\n",
    "        part = file[-8:-4]\n",
    "        if part not in first_row:\n",
    "            print(\"not a part\")"
   ]
  },
  {
   "cell_type": "code",
   "execution_count": null,
   "metadata": {},
   "outputs": [],
   "source": [
    "# 부위별 통계 내서 excel 파일에 저장\n",
    "# 최소 4개 ~ 최대 12개의 부위\n",
    "\n",
    "total_part_count = np.zeros(14, dtype=int) # 부위별 총통계\n",
    "#print(total_part_count)\n",
    "#print(len(total_part_count))\n",
    "row_num = 2 # excel row number\n",
    "for rf in os.listdir(respiratory_dir):\n",
    "    #print(rf) # rs_10001_01\n",
    "    print(\"row=\", row_num, \"column=\", 1, \"value=\", rf)\n",
    "    ws.cell(row=row_num, column=1, value=rf)\n",
    "    sub_dir = os.path.join(respiratory_dir, rf)\n",
    "    #print(\"sub_dir\", sub_dir) # ./1_yoingin_respiratory_sound/rs_10001_01\n",
    "    wav_file_num = 0\n",
    "    for file in os.listdir(sub_dir):\n",
    "        #print(file[-8:-4]) # 부위 이름 # FLML\n",
    "        part = file[-8:-4]\n",
    "        for i in range(len(row)):\n",
    "            if part == first_row[i]:\n",
    "                total_part_count[i] += 1\n",
    "                print(\"row=\", row_num, \"column=\", i+1, first_row[i])\n",
    "                ws.cell(row=row_num, column=i+1, value=1)\n",
    "        wav_file_num += 1\n",
    "    print(\"row=\", row_num, \"column=\", 14, \"value=\", wav_file_num)\n",
    "    print()\n",
    "    ws.cell(row=row_num, column=14, value=wav_file_num) # total wav file 개수 넣기\n",
    "    row_num += 1"
   ]
  },
  {
   "cell_type": "code",
   "execution_count": null,
   "metadata": {},
   "outputs": [],
   "source": [
    "# 부위별 총통계 개수 출력 \n",
    "for i in range(len(first_row)):\n",
    "        print(first_row[i], \"\\t\", end='')\n",
    "print()\n",
    "for i in range(len(total_part_count)):\n",
    "        print(total_part_count[i], \"\\t\", end='')\n",
    "print()\n",
    "\n",
    "total_part_count[-1] = 0\n",
    "# 전체 개수 구한 뒤 출력, 부위별 총통계 마지막 column에 넣기\n",
    "total = 0\n",
    "for i in range(len(total_part_count)):\n",
    "        total += total_part_count[i]\n",
    "print(\"전체 개수=\", total)\n",
    "total_part_count[-1] = total\n",
    "\n",
    "# 부위별 총통계 개수 재출력 \n",
    "for i in range(len(first_row)):\n",
    "        print(first_row[i], \"\\t\", end='')\n",
    "print()\n",
    "for i in range(len(total_part_count)):\n",
    "        print(total_part_count[i], \"\\t\", end='')"
   ]
  },
  {
   "cell_type": "code",
   "execution_count": null,
   "metadata": {},
   "outputs": [],
   "source": [
    "# 부위별 총통계 excel 파일에 저장\n",
    "for i in range(len(total_part_count)):\n",
    "    if i != 0:\n",
    "        print(\"row=\", row_num, \"column=\", i+1, total_part_count[i])\n",
    "        ws.cell(row=row_num, column=i+1, value=total_part_count[i])"
   ]
  },
  {
   "cell_type": "code",
   "execution_count": null,
   "metadata": {},
   "outputs": [],
   "source": [
    "# excel 내용 다시 출력하여 수정사항 체크\n",
    "row_num = 1 # excel row number\n",
    "for row in ws.values:\n",
    "    print(row_num, end=\"\\t\")\n",
    "    for i in range(len(row)):\n",
    "        print(row[i], end='\\t')\n",
    "    print()\n",
    "    row_num += 1"
   ]
  },
  {
   "cell_type": "code",
   "execution_count": null,
   "metadata": {},
   "outputs": [],
   "source": [
    "# save excel file (수정한 것을 적용)\n",
    "wb.save(wb_file_name + \"_완료.xlsx\")"
   ]
  },
  {
   "cell_type": "code",
   "execution_count": null,
   "metadata": {},
   "outputs": [],
   "source": []
  }
 ],
 "metadata": {
  "kernelspec": {
   "display_name": "Python 3",
   "language": "python",
   "name": "python3"
  },
  "language_info": {
   "codemirror_mode": {
    "name": "ipython",
    "version": 3
   },
   "file_extension": ".py",
   "mimetype": "text/x-python",
   "name": "python",
   "nbconvert_exporter": "python",
   "pygments_lexer": "ipython3",
   "version": "3.8.5"
  }
 },
 "nbformat": 4,
 "nbformat_minor": 5
}
