{
 "cells": [
  {
   "cell_type": "code",
   "execution_count": null,
   "metadata": {},
   "outputs": [],
   "source": [
    "# excel (.xlsx) file\n",
    "from openpyxl import load_workbook"
   ]
  },
  {
   "cell_type": "code",
   "execution_count": null,
   "metadata": {
    "scrolled": true
   },
   "outputs": [],
   "source": [
    "# open excel file\n",
    "wb_file_name = \"2022-07-08 제출 1,2차 판독결과 - 복사본\"\n",
    "wb = load_workbook(wb_file_name + \".xlsx\" , data_only=True )\n",
    "ws = wb.active\n",
    "\n",
    "# print excel file (엑셀 내용 출력)\n",
    "row_num = 1 # excel row number\n",
    "for row in ws.values:\n",
    "    print(row_num, end=\"\\t\")\n",
    "    for i in range(len(row)):\n",
    "        print(row[i], end=\"\\t\")\n",
    "    print()\n",
    "    row_num += 1"
   ]
  },
  {
   "cell_type": "code",
   "execution_count": null,
   "metadata": {},
   "outputs": [],
   "source": [
    "# open excel file\n",
    "wb_file_name_2 = \"호흡음 최종 판독 결과\"\n",
    "wb_2 = load_workbook(wb_file_name_2 + \".xlsx\" , data_only=True )\n",
    "ws_2 = wb_2.active\n",
    "\n",
    "# print excel file (엑셀 내용 출력)\n",
    "row_num = 1 # excel row number\n",
    "for row in ws_2.values:\n",
    "    print(row_num, end=\"\\t\")\n",
    "    for i in range(len(row)):\n",
    "        print(row[i], end=\"\\t\")\n",
    "    print()\n",
    "    row_num += 1"
   ]
  },
  {
   "cell_type": "code",
   "execution_count": null,
   "metadata": {},
   "outputs": [],
   "source": [
    "for row in ws_2.values:\n",
    "    print(row[9], row[10], row[11], row[12], row[13], row[14])\n",
    "    i = 21\n",
    "    print(row[i], row[i+1], row[i+2], row[i+3], row[i+4], row[i+5])"
   ]
  },
  {
   "cell_type": "code",
   "execution_count": null,
   "metadata": {},
   "outputs": [],
   "source": [
    "for row in ws.values:\n",
    "    i = 2\n",
    "    print(row[i], row[i+1], row[i+2], row[i+3], row[i+4], row[i+5])\n",
    "    i = 10\n",
    "    print(row[i], row[i+1], row[i+2], row[i+3], row[i+4], row[i+5])"
   ]
  },
  {
   "cell_type": "code",
   "execution_count": null,
   "metadata": {},
   "outputs": [],
   "source": [
    "for row in ws.values:\n",
    "    i = 2\n",
    "    print(row[i], row[i+1], row[i+2], row[i+3], row[i+4], row[i+5])\n",
    "    i = 10\n",
    "    print(row[i], row[i+1], row[i+2], row[i+3], row[i+4], row[i+5])"
   ]
  },
  {
   "cell_type": "code",
   "execution_count": null,
   "metadata": {},
   "outputs": [],
   "source": [
    "# PID와 DATE 매핑해서 호흡음 1, 2차 판독 결과를 호흡음 최종 판독 결과로 이동\n",
    "# ws : 호흡음 1, 2차 판독 결과\n",
    "# ws_2 : 호흡음 최종 판독 결과\n",
    "\n",
    "row_2_num = 1\n",
    "for row_2 in ws_2.values:\n",
    "    pid_2 = str(row_2[1])\n",
    "    date_2 = str(row_2[2])\n",
    "    # print(\"row_2\", row_2_num, pid_2, date_2)\n",
    "    row_num = 1\n",
    "    for row in ws.values:\n",
    "        pid = str(row[1])\n",
    "        date = str(row[0])[:4] + str(row[0])[5:7] + str(row[0])[8:10]\n",
    "        # print(\"row_1\", row_num, pid, date)\n",
    "        if pid_2 == pid and date_2 == date:\n",
    "            for i in range(2,8):\n",
    "                print(\"row_2_num=\",row_2_num,\"column=\",i+8, \"에 value=\",row[i],\"넣기\")\n",
    "                ws_2.cell(row=row_2_num, column=i+8, value=row[i])\n",
    "            for j in range(10, 16):\n",
    "                print(\"row_2_num=\",row_2_num,\"column=\",j+12, \"에 value=\",row[j],\"넣기\")\n",
    "                ws_2.cell(row=row_2_num, column=j+12, value=row[j])\n",
    "        row_num += 1\n",
    "    row_2_num += 1"
   ]
  },
  {
   "cell_type": "code",
   "execution_count": null,
   "metadata": {},
   "outputs": [],
   "source": [
    "# print excel file (엑셀 내용 출력)\n",
    "row_num = 1 # excel row number\n",
    "for row in ws_2.values:\n",
    "    print(row_num, end=\"\\t\")\n",
    "    for i in range(len(row)):\n",
    "        print(row[i], end=\"\\t\")\n",
    "    print()\n",
    "    row_num += 1"
   ]
  },
  {
   "cell_type": "code",
   "execution_count": null,
   "metadata": {},
   "outputs": [],
   "source": [
    "# save excel file (수정한 것을 적용)\n",
    "wb_2.save(wb_file_name_2 + \"_completed.xlsx\")"
   ]
  },
  {
   "cell_type": "code",
   "execution_count": null,
   "metadata": {},
   "outputs": [],
   "source": []
  }
 ],
 "metadata": {
  "kernelspec": {
   "display_name": "Python 3",
   "language": "python",
   "name": "python3"
  },
  "language_info": {
   "codemirror_mode": {
    "name": "ipython",
    "version": 3
   },
   "file_extension": ".py",
   "mimetype": "text/x-python",
   "name": "python",
   "nbconvert_exporter": "python",
   "pygments_lexer": "ipython3",
   "version": "3.8.5"
  }
 },
 "nbformat": 4,
 "nbformat_minor": 5
}
