{
 "cells": [
  {
   "cell_type": "code",
   "execution_count": null,
   "metadata": {},
   "outputs": [],
   "source": [
    "# excel (.xlsx) file\n",
    "from openpyxl import load_workbook"
   ]
  },
  {
   "cell_type": "code",
   "execution_count": null,
   "metadata": {
    "scrolled": true
   },
   "outputs": [],
   "source": [
    "# open excel file\n",
    "wb_file_name = \"S000035\"\n",
    "wb = load_workbook(wb_file_name + \".xlsx\" , data_only=True )\n",
    "ws = wb.active\n",
    "\n",
    "# print excel file (엑셀 내용 출력)\n",
    "row_num = 1 # excel row number\n",
    "for row in ws.values:\n",
    "    print(row_num, end=\"\\t\")\n",
    "    for i in range(len(row)):\n",
    "        print(row[i], end=\"\\t\")\n",
    "    print()\n",
    "    row_num += 1"
   ]
  },
  {
   "cell_type": "code",
   "execution_count": null,
   "metadata": {},
   "outputs": [],
   "source": [
    "# open excel file\n",
    "wb_file_name_2 = \"S000035_\"\n",
    "wb_2 = load_workbook(wb_file_name_2 + \".xlsx\" , data_only=True )\n",
    "ws_2 = wb_2.active\n",
    "\n",
    "# print excel file (엑셀 내용 출력)\n",
    "row_num = 1 # excel row number\n",
    "for row in ws_2.values:\n",
    "    print(row_num, end=\"\\t\")\n",
    "    for i in range(len(row)):\n",
    "        print(row[i], end=\"\\t\")\n",
    "    print()\n",
    "    row_num += 1"
   ]
  },
  {
   "cell_type": "code",
   "execution_count": null,
   "metadata": {},
   "outputs": [],
   "source": [
    "# 개별 엑셀 파일 생성\n",
    "\n",
    "for row in ws.values:\n",
    "    for i in range(len(row)):\n",
    "        #print(row[i], end=\"\\t\")\n",
    "        print(\"column=\",i+1,\"에 value=\",row[i],\"넣기\")\n",
    "        ws_2.cell(row=2, column=i+1, value=row[i])\n",
    "    wb_2.save(wb_file_name_2 + \"22\" + str(row[0])[5:7] + str(row[0])[8:10] + \".csv\")\n",
    "    print()\n",
    "    #ws.cell(row=row_num, column=2, value=row[1][1:])"
   ]
  },
  {
   "cell_type": "code",
   "execution_count": null,
   "metadata": {},
   "outputs": [],
   "source": []
  }
 ],
 "metadata": {
  "kernelspec": {
   "display_name": "Python 3",
   "language": "python",
   "name": "python3"
  },
  "language_info": {
   "codemirror_mode": {
    "name": "ipython",
    "version": 3
   },
   "file_extension": ".py",
   "mimetype": "text/x-python",
   "name": "python",
   "nbconvert_exporter": "python",
   "pygments_lexer": "ipython3",
   "version": "3.8.5"
  }
 },
 "nbformat": 4,
 "nbformat_minor": 5
}
