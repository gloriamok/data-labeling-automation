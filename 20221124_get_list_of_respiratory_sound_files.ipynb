{
 "cells": [
  {
   "cell_type": "code",
   "execution_count": null,
   "metadata": {},
   "outputs": [],
   "source": [
    "import os\n",
    "import shutil\n",
    "\n",
    "hsecg_data_dir = \"./\" + \"4_smartsound_respiratory_sound\" + \"/\""
   ]
  },
  {
   "cell_type": "code",
   "execution_count": null,
   "metadata": {},
   "outputs": [],
   "source": [
    "# open excel file\n",
    "from openpyxl import load_workbook\n",
    "\n",
    "wb_file_name = \"respiratory_sound_file_list\"\n",
    "\n",
    "wb = load_workbook(wb_file_name + \".xlsx\" , data_only=True )\n",
    "ws = wb.active\n",
    "\n",
    "# print excel file (엑셀 내용 출력)\n",
    "row_num = 1 # excel row number\n",
    "for row in ws.values:\n",
    "    print(row_num, \"\\t\", end='')\n",
    "    for i in range(len(row)):\n",
    "        print(row[i], \"\\t\", end='')\n",
    "    print()\n",
    "    row_num += 1"
   ]
  },
  {
   "cell_type": "code",
   "execution_count": null,
   "metadata": {},
   "outputs": [],
   "source": [
    "# 각 PID 별 호흡음 파일이 4개 이상 있는지 확인\n",
    "\n",
    "for rf in os.listdir(hsecg_data_dir):\n",
    "    sub_dir = os.path.join(hsecg_data_dir, rf)\n",
    "    # print(\"sub_dir\", sub_dir) # ./1_yoingin_respiratory_sound/rs_10001_01\n",
    "    wav_file_num = 0\n",
    "    if len(os.listdir(sub_dir)) == 0:\n",
    "        print(\"no file exists\", rf) # 폴더에 파일이 아예 없다면...\n",
    "    for file in os.listdir(sub_dir):\n",
    "        #print(file[-3:]) # wav\n",
    "        if file[-3:] == \"wav\":\n",
    "            wav_file_num += 1\n",
    "        else:\n",
    "            print(file) # 파일 확장명이 wav가 아니면 파일명 출력\n",
    "        if file == os.listdir(sub_dir)[-1] and wav_file_num < 4:\n",
    "            print(\"less than 4 wav files\", rf) # 호흡음 파일이 4개 미만이라면 출력\n",
    "    if (wav_file_num == 12): # 호흡음 파일이 12개라면 출력\n",
    "        print(rf)"
   ]
  },
  {
   "cell_type": "code",
   "execution_count": null,
   "metadata": {},
   "outputs": [],
   "source": [
    "row_num = 21038 # excel row number\n",
    "for rf in os.listdir(hsecg_data_dir):\n",
    "    print(rf) # rs_10001_01\n",
    "    #print(\"row=\", row_num, \"column=\", 1, \"value=\", rf)\n",
    "    #ws.cell(row=row_num, column=1, value=rf)\n",
    "    sub_dir = os.path.join(hsecg_data_dir, rf)\n",
    "    print(\"sub_dir\", sub_dir) # ./1_yoingin_respiratory_sound/rs_10001_01\n",
    "    for file in os.listdir(sub_dir):\n",
    "        print(\"row=\", row_num, \"column=\", 1, \"value=\", file)\n",
    "        ws.cell(row=row_num, column=1, value=file)\n",
    "        row_num += 1\n",
    "    print()"
   ]
  },
  {
   "cell_type": "code",
   "execution_count": null,
   "metadata": {},
   "outputs": [],
   "source": [
    "# excel 내용 다시 출력하여 수정사항 체크\n",
    "row_num = 1 # excel row number\n",
    "for row in ws.values:\n",
    "    print(row_num, end=\"\\t\")\n",
    "    for i in range(len(row)):\n",
    "        print(row[i], end='\\t')\n",
    "    print()\n",
    "    row_num += 1"
   ]
  },
  {
   "cell_type": "code",
   "execution_count": null,
   "metadata": {},
   "outputs": [],
   "source": [
    "# save excel file (수정한 것을 적용)\n",
    "wb.save(wb_file_name + \"_completed.xlsx\")"
   ]
  },
  {
   "cell_type": "code",
   "execution_count": null,
   "metadata": {},
   "outputs": [],
   "source": []
  }
 ],
 "metadata": {
  "kernelspec": {
   "display_name": "Python 3",
   "language": "python",
   "name": "python3"
  },
  "language_info": {
   "codemirror_mode": {
    "name": "ipython",
    "version": 3
   },
   "file_extension": ".py",
   "mimetype": "text/x-python",
   "name": "python",
   "nbconvert_exporter": "python",
   "pygments_lexer": "ipython3",
   "version": "3.8.5"
  }
 },
 "nbformat": 4,
 "nbformat_minor": 5
}
