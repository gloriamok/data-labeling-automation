{
 "cells": [
  {
   "cell_type": "code",
   "execution_count": null,
   "metadata": {},
   "outputs": [],
   "source": [
    "import os\n",
    "import shutil\n",
    "import numpy as np\n",
    "import json\n",
    "\n",
    "respiratory_dir = \"./respiratory_sound/\""
   ]
  },
  {
   "cell_type": "code",
   "execution_count": null,
   "metadata": {
    "scrolled": true
   },
   "outputs": [],
   "source": [
    "# txt 파일명에서 볼 수 있는 진단된 label을 (ex. 0 (=normal))\n",
    "# 진단명에 맞게 json의 label에 넣기\n",
    "# 단, json의 label이 99일 때만!\n",
    "\n",
    "\n",
    "for rf in os.listdir(respiratory_dir):\n",
    "    sub_dir = os.path.join(respiratory_dir, rf)\n",
    "    with open(sub_dir + \"/\" + rf + \".json\", \"r+\", encoding=\"utf8\") as f:\n",
    "        json_data = json.load(f)\n",
    "        print(\"before=\", json_data)\n",
    "        json_data_rf = json_data[\"respiratory_files\"] # unpacking json_data and reading labels in json_data in json file\n",
    "        #print(json_data_rf)\n",
    "        for i, data in enumerate(json_data_rf):\n",
    "            if (data[0][\"label\"] == 99):\n",
    "                for file in os.listdir(sub_dir):\n",
    "                    #print(file[-3:])\n",
    "                    #print(file[:-6])\n",
    "                    if file[-3:] == \"txt\" and file[:16] == data[0][\"id\"]:\n",
    "                        txt_label = file.rsplit('_')[-1][:-4]\n",
    "                        #print(txt_label)\n",
    "                        #print(\"before=\", json_data[\"respiratory_files\"][i][0][\"label\"])\n",
    "                        json_data[\"respiratory_files\"][i][0][\"label\"] = int(txt_label)\n",
    "                        #print(\"after=\", json_data[\"respiratory_files\"][i][0][\"label\"])\n",
    "\n",
    "    print(\"after=\", json_data)\n",
    "    print()\n",
    "    \n",
    "    after_file = open(sub_dir + \"/\" + rf + \".json\", \"w\", encoding=\"utf8\")\n",
    "    json.dump(json_data, after_file, indent=4)\n",
    "    after_file.close()"
   ]
  },
  {
   "cell_type": "code",
   "execution_count": null,
   "metadata": {},
   "outputs": [],
   "source": []
  }
 ],
 "metadata": {
  "kernelspec": {
   "display_name": "Python 3",
   "language": "python",
   "name": "python3"
  },
  "language_info": {
   "codemirror_mode": {
    "name": "ipython",
    "version": 3
   },
   "file_extension": ".py",
   "mimetype": "text/x-python",
   "name": "python",
   "nbconvert_exporter": "python",
   "pygments_lexer": "ipython3",
   "version": "3.8.5"
  }
 },
 "nbformat": 4,
 "nbformat_minor": 4
}
