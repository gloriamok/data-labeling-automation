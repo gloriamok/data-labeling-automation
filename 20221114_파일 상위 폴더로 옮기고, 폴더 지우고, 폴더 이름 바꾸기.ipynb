{
 "cells": [
  {
   "cell_type": "code",
   "execution_count": null,
   "metadata": {},
   "outputs": [],
   "source": [
    "# 파일 상위 폴더로 옮기고, 폴더 지우고, 폴더 이름 바꾸기\n",
    "# 날짜있는 폴더가 1개일 때만 사용\n",
    "\n",
    "import os\n",
    "import shutil\n",
    "\n",
    "root_dir = \"./RespiratorySound/\"  \n",
    "files = os.listdir(root_dir)\n",
    "\n",
    "rename_file = \"\"\n",
    "\n",
    "for file in files:\n",
    "    sub_dir = os.path.join(root_dir, file) # sub_dir = root_dir + file\n",
    "    #print(sub_dir) # ./RespiratorySound/1427458\n",
    "    sub_files = os.listdir(sub_dir)\n",
    "    for sub_file in sub_files:\n",
    "        sub_2_dir = os.path.join(sub_dir, sub_file) # sub_2_dir = sub_dir + sub_file\n",
    "        #print(sub_2_dir) # ./RespiratorySound/1427458\\Lung Sound (폐음)\n",
    "        sub_2_files = os.listdir(sub_2_dir)\n",
    "        sub_2_file = sub_2_files[0]\n",
    "        rename_file = file + \"_\" + sub_2_file[:4] + sub_2_file[5:7] + sub_2_file[8:10]\n",
    "        path = os.path.join(sub_2_dir, sub_2_file)\n",
    "        #print(path) # ./RespiratorySound/1427458\\Lung Sound (폐음)\\2022-07-28-140453\n",
    "        for lung in os.listdir(path):\n",
    "            #print(lung) # 115964_20220629111228_FLLL.wav\n",
    "            print(\"move\", path + \"/\" + lung + \" to \" + sub_dir + \"/\" + lung) # move ./RespiratorySound/115964\\Lung Sound (폐음)\\2022-06-29-111233/115964_20220629111228_FLLL.wav\n",
    "                                                                            # to ./RespiratorySound/115964/115964_20220629111228_FLLL.wav\n",
    "            shutil.move(path + \"/\" + lung, sub_dir + \"/\" + lung)\n",
    "        print(\"remove\", sub_2_dir) # remove ./RespiratorySound/115964\\Lung Sound (폐음)\n",
    "        shutil.rmtree(sub_2_dir) # 폴더와 그 안의 파일 모두 삭제\n",
    "    print(\"rename \" + file + \" to \" + rename_file)\n",
    "    os.rename(root_dir + \"/\" + file, root_dir + \"/\" + rename_file) # rename 115964 to 115964_20220629"
   ]
  },
  {
   "cell_type": "code",
   "execution_count": null,
   "metadata": {},
   "outputs": [],
   "source": []
  }
 ],
 "metadata": {
  "kernelspec": {
   "display_name": "Python 3",
   "language": "python",
   "name": "python3"
  },
  "language_info": {
   "codemirror_mode": {
    "name": "ipython",
    "version": 3
   },
   "file_extension": ".py",
   "mimetype": "text/x-python",
   "name": "python",
   "nbconvert_exporter": "python",
   "pygments_lexer": "ipython3",
   "version": "3.8.5"
  }
 },
 "nbformat": 4,
 "nbformat_minor": 5
}
