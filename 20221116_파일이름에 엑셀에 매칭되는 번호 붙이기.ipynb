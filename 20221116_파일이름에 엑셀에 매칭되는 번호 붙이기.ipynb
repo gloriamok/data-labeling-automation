{
 "cells": [
  {
   "cell_type": "code",
   "execution_count": null,
   "metadata": {},
   "outputs": [],
   "source": [
    "def replace_in_file(file_path, old_str, new_str):\n",
    "    # 파일 읽어들이기\n",
    "    fr = open(file_path, 'r')\n",
    "    lines = fr.readlines()\n",
    "    fr.close()\n",
    "    \n",
    "    # old_str -> new_str 치환\n",
    "    fw = open(file_path, 'w')\n",
    "    for line in lines:\n",
    "        fw.write(line.replace(old_str, new_str))\n",
    "    fw.close()"
   ]
  },
  {
   "cell_type": "code",
   "execution_count": null,
   "metadata": {},
   "outputs": [],
   "source": [
    "import os\n",
    "\n",
    "# open excel file\n",
    "from openpyxl import load_workbook\n",
    "wb = load_workbook(\"전체 환자 라벨.xlsx\" , data_only=True )\n",
    "ws = wb.active\n",
    "\n",
    "# print excel file (엑셀 내용 출력)\n",
    "row_num = 1\n",
    "for row in ws.values:\n",
    "    print(row_num, \"\\t\", row[0], \"\\t\", row[1], \"\\t\", row[2])\n",
    "    row_num += 1"
   ]
  },
  {
   "cell_type": "code",
   "execution_count": null,
   "metadata": {
    "scrolled": true
   },
   "outputs": [],
   "source": [
    "# .jpg or .JPG (.jpeg나 .JPEG 안됨)\n",
    "\n",
    "ecg_dir = \"./ECG/\"\n",
    "\n",
    "line_num = 1\n",
    "for ef in os.listdir(ecg_dir):\n",
    "    # print(ef) # 000010285\n",
    "    sub_dir = os.path.join(ecg_dir, ef)\n",
    "    # print(sub_dir) # ./ECG/000010285\n",
    "    for i in os.listdir(sub_dir):\n",
    "        print(i) # 000010285 ecg.jpg\n",
    "        row_num = 1\n",
    "        for row in ws.values:\n",
    "            if row[0] == i:\n",
    "                a = i[:-4]\n",
    "                b = i[-4:]\n",
    "                # print(a, b) # 000010285 ecg .jpg\n",
    "                # print(row[0], \"match!\") # 000010285 ecg.jpg match!\n",
    "                print(\"rename\", i, \"to\", a + \"_\" + str(row[1]) + b)\n",
    "                # print(\"rename\", sub_dir + \"/\" + i, \"to\", sub_dir + \"/\" + a + \"_\" + str(row[1]) + b) # rename ./ECG/000010285/000010285 ecg.jpg to ./ECG/000010285/000010285 ecg_1.jpg\n",
    "                os.rename(sub_dir + \"/\" + i, sub_dir + \"/\" + a + \"_\" + str(row[1]) + b)\n",
    "                # print(\"add a message in a line (row\", row_num, \", column 3) in excel file\") # add a message in a line (row 2 , column 3) in excel file\n",
    "                ws.cell(row=row_num, column=3, value=\"completed\") # 번호 붙인 파일 완료 표시\n",
    "                replace_in_file(\"ecg_list.txt\", ef, \"\") # 텍스트 파일에서 매칭된 폴더명 삭제\n",
    "            row_num += 1\n",
    "    line_num += 1"
   ]
  },
  {
   "cell_type": "code",
   "execution_count": null,
   "metadata": {},
   "outputs": [],
   "source": [
    "# excel 내용 다시 출력하여 수정사항 체크\n",
    "row_num = 1\n",
    "for row in ws.values:\n",
    "    print(row_num, \"\\t\", row[0], \"\\t\", row[1], \"\\t\", row[2])\n",
    "    row_num += 1"
   ]
  },
  {
   "cell_type": "code",
   "execution_count": null,
   "metadata": {},
   "outputs": [],
   "source": [
    "# save excel file (수정한 것을 적용)\n",
    "wb.save(\"전체 환자 라벨_완료.xlsx\")"
   ]
  },
  {
   "cell_type": "code",
   "execution_count": null,
   "metadata": {},
   "outputs": [],
   "source": []
  }
 ],
 "metadata": {
  "kernelspec": {
   "display_name": "Python 3",
   "language": "python",
   "name": "python3"
  },
  "language_info": {
   "codemirror_mode": {
    "name": "ipython",
    "version": 3
   },
   "file_extension": ".py",
   "mimetype": "text/x-python",
   "name": "python",
   "nbconvert_exporter": "python",
   "pygments_lexer": "ipython3",
   "version": "3.8.5"
  }
 },
 "nbformat": 4,
 "nbformat_minor": 5
}
