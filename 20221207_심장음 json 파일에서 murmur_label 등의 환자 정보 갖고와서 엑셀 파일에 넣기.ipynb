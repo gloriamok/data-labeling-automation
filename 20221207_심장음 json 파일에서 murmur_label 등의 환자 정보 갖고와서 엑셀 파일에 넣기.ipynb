{
 "cells": [
  {
   "cell_type": "code",
   "execution_count": null,
   "metadata": {},
   "outputs": [],
   "source": [
    "import os\n",
    "import shutil\n",
    "import numpy as np\n",
    "\n",
    "# json file\n",
    "import json\n",
    "\n",
    "# excel (.xlsx) file\n",
    "from openpyxl import load_workbook\n",
    "\n",
    "hs_dir = \"./01.heart_sound/\""
   ]
  },
  {
   "cell_type": "code",
   "execution_count": null,
   "metadata": {},
   "outputs": [],
   "source": [
    "# open excel file\n",
    "wb_file_name = \"heart_sound\"\n",
    "wb = load_workbook(wb_file_name + \".xlsx\" , data_only=True )\n",
    "ws = wb.active\n",
    "\n",
    "# print excel file (엑셀 내용 출력)\n",
    "row_num = 1 # excel row number\n",
    "for row in ws.values:\n",
    "    print(row_num, end=\"\\t\")\n",
    "    for i in range(len(row)):\n",
    "        print(row[i], end=\"\\t\")\n",
    "    print()\n",
    "    row_num += 1"
   ]
  },
  {
   "cell_type": "code",
   "execution_count": null,
   "metadata": {
    "scrolled": true
   },
   "outputs": [],
   "source": [
    "# 심장음 json 파일에서 환자 정보 갖고와서 엑셀 파일에 넣기\n",
    "# 환자 정보 : 익명화PID, PID, DATE, murmur_label(MA, TA, AA, PA)\n",
    "\n",
    "row_num = 2\n",
    "for rf in os.listdir(hs_dir):\n",
    "    print(rf)\n",
    "    ws.cell(row=row_num, column=1, value=rf)\n",
    "    sub_dir = os.path.join(hs_dir, rf)\n",
    "    with open(sub_dir + \"/\" + rf + \".json\", \"r+\", encoding=\"utf8\") as f:\n",
    "        json_data = json.load(f)\n",
    "        print(json_data[\"patient_id\"])\n",
    "        print(json_data[\"study_date\"])\n",
    "        ws.cell(row=row_num, column=2, value=json_data[\"patient_id\"])\n",
    "        ws.cell(row=row_num, column=3, value=json_data[\"study_date\"])\n",
    "        json_data_rf = json_data[\"pcg_files\"]\n",
    "        #print(json_data_rf)\n",
    "        column_num = 4\n",
    "        for data in json_data_rf:\n",
    "            print(data[0][\"murmur_label\"])\n",
    "            ws.cell(row=row_num, column=column_num, value=data[0][\"murmur_label\"])\n",
    "            column_num += 1\n",
    "    row_num += 1"
   ]
  },
  {
   "cell_type": "code",
   "execution_count": null,
   "metadata": {},
   "outputs": [],
   "source": [
    "# print excel file (엑셀 내용 출력)\n",
    "row_num = 1 # excel row number\n",
    "for row in ws.values:\n",
    "    print(row_num, end=\"\\t\")\n",
    "    for i in range(len(row)):\n",
    "        print(row[i], end=\"\\t\")\n",
    "    print()\n",
    "    row_num += 1"
   ]
  },
  {
   "cell_type": "code",
   "execution_count": null,
   "metadata": {},
   "outputs": [],
   "source": [
    "# save excel file (수정한 것을 적용)\n",
    "wb.save(wb_file_name + \"_completed.xlsx\")"
   ]
  },
  {
   "cell_type": "code",
   "execution_count": null,
   "metadata": {},
   "outputs": [],
   "source": []
  }
 ],
 "metadata": {
  "kernelspec": {
   "display_name": "Python 3",
   "language": "python",
   "name": "python3"
  },
  "language_info": {
   "codemirror_mode": {
    "name": "ipython",
    "version": 3
   },
   "file_extension": ".py",
   "mimetype": "text/x-python",
   "name": "python",
   "nbconvert_exporter": "python",
   "pygments_lexer": "ipython3",
   "version": "3.8.5"
  }
 },
 "nbformat": 4,
 "nbformat_minor": 4
}
