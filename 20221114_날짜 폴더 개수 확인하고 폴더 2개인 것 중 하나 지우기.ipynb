{
 "cells": [
  {
   "cell_type": "code",
   "execution_count": null,
   "metadata": {},
   "outputs": [],
   "source": [
    "# 날짜있는 폴더의 개수가 1개인지 확인 \n",
    "\n",
    "import os\n",
    "\n",
    "root_dir = \"./RespiratorySound/\"  \n",
    "files = os.listdir(root_dir)\n",
    "for file in files:\n",
    "    sub_dir = os.path.join(root_dir, file) # sub_dir = root_dir + file\n",
    "    #print(sub_dir)\n",
    "    sub_files = os.listdir(sub_dir)\n",
    "    for sub_file in sub_files:\n",
    "        sub_2_dir = os.path.join(sub_dir, sub_file) # sub_2_dir = sub_dir + sub_file\n",
    "        #print(sub_2_dir)\n",
    "        sub_2_files = os.listdir(sub_2_dir)\n",
    "        #print(sub_2_files)\n",
    "        if len(sub_2_files) != 1:\n",
    "            #print(sub_2_files)\n",
    "            #print(sub_2_dir)\n",
    "            for sub_2_file in sub_2_files:\n",
    "                path = os.path.join(sub_2_dir, sub_2_file)\n",
    "                print(path)\n",
    "            print()"
   ]
  },
  {
   "cell_type": "code",
   "execution_count": null,
   "metadata": {},
   "outputs": [],
   "source": []
  },
  {
   "cell_type": "code",
   "execution_count": null,
   "metadata": {},
   "outputs": [],
   "source": [
    "# 날짜있는 폴더가 2개 있는 것 중 아래 폴더 지우기\n",
    "\n",
    "import os\n",
    "import shutil\n",
    "\n",
    "root_dir = \"./RespiratorySound/\"  \n",
    "files = os.listdir(root_dir)   \n",
    "for file in files:\n",
    "    sub_dir = os.path.join(root_dir, file) # sub_dir = root_dir + file\n",
    "    #print(sub_dir) # ./RespiratorySound/1427458\n",
    "    sub_files = os.listdir(sub_dir)\n",
    "    for sub_file in sub_files:\n",
    "        sub_2_dir = os.path.join(sub_dir, sub_file) # sub_2_dir = sub_dir + sub_file\n",
    "        #print(sub_2_dir) # ./RespiratorySound/1427458\\Lung Sound (폐음)\n",
    "        sub_2_files = os.listdir(sub_2_dir)\n",
    "        #print(sub_2_files)\n",
    "        if len(sub_2_files) != 1:\n",
    "            #print(sub_2_files)\n",
    "            #print(sub_2_dir)\n",
    "            i = 1\n",
    "            for sub_2_file in sub_2_files:\n",
    "                path = os.path.join(sub_2_dir, sub_2_file)\n",
    "                print(path) # ./RespiratorySound/1427458\\Lung Sound (폐음)\\2022-07-28-140453\n",
    "                if i == 2: # 두 번째 폴더 지우기\n",
    "                    print(\"remove\", path) # remove ./RespiratorySound/1427458\\Lung Sound (폐음)\\2022-07-28-141444\n",
    "                    shutil.rmtree(path) # 폴더와 그 안의 파일 모두 삭제\n",
    "                i += 1\n",
    "            print()"
   ]
  },
  {
   "cell_type": "code",
   "execution_count": null,
   "metadata": {},
   "outputs": [],
   "source": []
  }
 ],
 "metadata": {
  "kernelspec": {
   "display_name": "Python 3",
   "language": "python",
   "name": "python3"
  },
  "language_info": {
   "codemirror_mode": {
    "name": "ipython",
    "version": 3
   },
   "file_extension": ".py",
   "mimetype": "text/x-python",
   "name": "python",
   "nbconvert_exporter": "python",
   "pygments_lexer": "ipython3",
   "version": "3.8.5"
  }
 },
 "nbformat": 4,
 "nbformat_minor": 5
}
