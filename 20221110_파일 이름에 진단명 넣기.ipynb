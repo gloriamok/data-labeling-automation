{
 "cells": [
  {
   "cell_type": "code",
   "execution_count": null,
   "metadata": {},
   "outputs": [],
   "source": [
    "import os\n",
    "\n",
    "# open excel file\n",
    "from openpyxl import load_workbook\n",
    "wb = load_workbook(\"yongin_ecg_diagnosis.xlsx\" , data_only=True )\n",
    "ws = wb.active\n",
    "\n",
    "# print excel file (엑셀 내용 출력)\n",
    "row_num = 1\n",
    "for row in ws.values:\n",
    "    print(row_num, \"\\t\", row[0], \"\\t\", row[1])\n",
    "    row_num += 1"
   ]
  },
  {
   "cell_type": "code",
   "execution_count": null,
   "metadata": {},
   "outputs": [],
   "source": [
    "# 엑셀의 2번째 열만 출력해봅니다\n",
    "row_num = 1\n",
    "for row in ws.values:\n",
    "    print(row[1])\n",
    "    row_num += 1"
   ]
  },
  {
   "cell_type": "code",
   "execution_count": null,
   "metadata": {},
   "outputs": [],
   "source": [
    "# edit excel file\n",
    "# 엑셀 파일 수정 - 2번째 열의 공백 제거\n",
    "row_num = 1\n",
    "for row in ws.values:\n",
    "    if row[1] == \" PID / NAME MISMATCH \": # \" PID / NAME MISMATCH \" 진단명의 맨앞 공백 1칸을 제거함\n",
    "        print(\"1\")\n",
    "        ws.cell(row=row_num, column=2, value=row[1][1:])\n",
    "    elif row[1] != \"diagnosis\": # 첫번째 행은 머리글 - \"diagnosis\" 라는 머리글 제외하고 진단명의 맨앞 공백 2칸을 제거함\n",
    "        print(\"2\")\n",
    "        ws.cell(row=row_num, column=2, value=row[1][2:])\n",
    "    row_num += 1"
   ]
  },
  {
   "cell_type": "code",
   "execution_count": null,
   "metadata": {},
   "outputs": [],
   "source": [
    "# excel 내용 다시 출력하여 수정사항 체크\n",
    "row_num = 1\n",
    "for row in ws.values:\n",
    "    print(row_num, \"\\t\", row[0], \"\\t\", row[1])\n",
    "    row_num += 1"
   ]
  },
  {
   "cell_type": "code",
   "execution_count": null,
   "metadata": {},
   "outputs": [],
   "source": [
    "# 엑셀의 2번째 열만 다시 출력해봅니다\n",
    "row_num = 1\n",
    "for row in ws.values:\n",
    "    print(row[1])\n",
    "    row_num += 1"
   ]
  },
  {
   "cell_type": "code",
   "execution_count": null,
   "metadata": {},
   "outputs": [],
   "source": [
    "# save excel file (수정한 것을 적용)\n",
    "wb.save(\"yongin_ecg_diagnosis.xlsx\")"
   ]
  },
  {
   "cell_type": "code",
   "execution_count": null,
   "metadata": {},
   "outputs": [],
   "source": []
  },
  {
   "cell_type": "code",
   "execution_count": null,
   "metadata": {},
   "outputs": [],
   "source": [
    "# 파일 이름에 진단명 넣기\n",
    "line_num = 1\n",
    "for i in os.listdir():\n",
    "    print(i)\n",
    "    if i == \"yongin_ecg_diagnosis.xlsx\" or i == \".ipynb_checkpoints\" or i == \"20221110_파일 이름에 진단명 넣기.ipynb\": # ecg 파일이 아닐 경우 스킵합니다!\n",
    "        print(\"skip!\\n\")\n",
    "    else:\n",
    "        j = i[:-4] # \".pdf\" 지우기\n",
    "        print(j)\n",
    "        row_num = 1\n",
    "        for row in ws.values:\n",
    "            if str(row[0]) == j: # pid가 매칭될 경우\n",
    "                if row[1] != \"PID / NAME MISMATCH \": # 진단명이 \"PID / NAME MISMATCH \"일 경우 빼고!\n",
    "                    os.rename(i, j + \"_\" + row[1] + \".pdf\")\n",
    "                    print(line_num, row_num, i, \"완료\")\n",
    "            row_num += 1\n",
    "    line_num += 1"
   ]
  },
  {
   "cell_type": "code",
   "execution_count": null,
   "metadata": {},
   "outputs": [],
   "source": []
  }
 ],
 "metadata": {
  "kernelspec": {
   "display_name": "Python 3",
   "language": "python",
   "name": "python3"
  },
  "language_info": {
   "codemirror_mode": {
    "name": "ipython",
    "version": 3
   },
   "file_extension": ".py",
   "mimetype": "text/x-python",
   "name": "python",
   "nbconvert_exporter": "python",
   "pygments_lexer": "ipython3",
   "version": "3.8.5"
  }
 },
 "nbformat": 4,
 "nbformat_minor": 5
}
