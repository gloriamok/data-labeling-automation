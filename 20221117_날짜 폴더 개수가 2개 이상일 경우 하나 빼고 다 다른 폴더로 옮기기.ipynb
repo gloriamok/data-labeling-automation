{
 "cells": [
  {
   "cell_type": "code",
   "execution_count": null,
   "metadata": {},
   "outputs": [],
   "source": [
    "# 날짜있는 폴더가 2개 이상 있는 것 중 아래 폴더들을 매칭안된 호흡읍 폴더로 이동\n",
    "\n",
    "import os\n",
    "import shutil\n",
    "\n",
    "respiratory_dir = \"./RespiratorySound_structured/\"\n",
    "\n",
    "nomatch_respiratory_dir = \"./매칭안된 호흡읍/\"\n",
    "\n",
    "a = \"\"\n",
    "\n",
    "for rf in os.listdir(respiratory_dir):\n",
    "    #print(rf) # 10285_20220729162206\n",
    "    b = rf.rsplit('_')[0]\n",
    "    # print(b)\n",
    "    if a == b:\n",
    "        # print(\"same\", a)\n",
    "        sub_dir = os.path.join(respiratory_dir, rf)\n",
    "        print(\"move\" + sub_dir + \" to \" + nomatch_respiratory_dir + rf)\n",
    "        shutil.move(sub_dir, nomatch_respiratory_dir + rf)\n",
    "    a = b"
   ]
  },
  {
   "cell_type": "code",
   "execution_count": null,
   "metadata": {},
   "outputs": [],
   "source": []
  },
  {
   "cell_type": "code",
   "execution_count": null,
   "metadata": {},
   "outputs": [],
   "source": [
    "# 날짜있는 폴더가 2개 있는 것 중 아래 폴더를 매칭 안된 cxr 폴더로 이동\n",
    "\n",
    "cxr_dir = \"./CXR/\"\n",
    "\n",
    "nomatch_cxr_dir = \"./매칭안된 CXR/\"\n",
    "\n",
    "a = \"\"\n",
    "\n",
    "for cf in os.listdir(cxr_dir):\n",
    "    #print(cf) # 000010285_20220804\n",
    "    b = cf.rsplit('_')[0]\n",
    "    #print(b) # 000010285\n",
    "    if a == b:\n",
    "        #print(\"same\", a)\n",
    "        sub_dir = os.path.join(cxr_dir, cf)\n",
    "        print(\"move\" + sub_dir + \" to \" + nomatch_cxr_dir + cf)\n",
    "        shutil.move(sub_dir, nomatch_cxr_dir + cf)\n",
    "    a = b"
   ]
  },
  {
   "cell_type": "code",
   "execution_count": null,
   "metadata": {},
   "outputs": [],
   "source": []
  }
 ],
 "metadata": {
  "kernelspec": {
   "display_name": "Python 3",
   "language": "python",
   "name": "python3"
  },
  "language_info": {
   "codemirror_mode": {
    "name": "ipython",
    "version": 3
   },
   "file_extension": ".py",
   "mimetype": "text/x-python",
   "name": "python",
   "nbconvert_exporter": "python",
   "pygments_lexer": "ipython3",
   "version": "3.8.5"
  }
 },
 "nbformat": 4,
 "nbformat_minor": 5
}
