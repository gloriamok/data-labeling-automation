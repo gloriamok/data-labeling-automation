{
 "cells": [
  {
   "cell_type": "code",
   "execution_count": null,
   "metadata": {},
   "outputs": [],
   "source": [
    "import os\n",
    "import shutil\n",
    "\n",
    "hospital_name = \"3_bucheon_hsecg\" + \"/\"\n",
    "hsecg_data_dir = \"./hsecg_data/\" + hospital_name\n",
    "hsecg_label_dir = \"./hsecg_label/\" + hospital_name\n",
    "hsecg_data_jpg_dir = \"./hsecg_data/\" + \"3_bucheon_hsecg_jpg\" + \"/\""
   ]
  },
  {
   "cell_type": "code",
   "execution_count": null,
   "metadata": {},
   "outputs": [],
   "source": [
    "# open excel file\n",
    "from openpyxl import load_workbook\n",
    "\n",
    "wb_file_name = \"3_bucheon_hsecg\"\n",
    "\n",
    "wb = load_workbook(wb_file_name + \".xlsx\" , data_only=True )\n",
    "ws = wb.active\n",
    "\n",
    "# print excel file (엑셀 내용 출력)\n",
    "row_num = 1 # excel row number\n",
    "for row in ws.values:\n",
    "    print(row_num, \"\\t\", end='')\n",
    "    for i in range(len(row)):\n",
    "        print(row[i], \"\\t\", end='')\n",
    "    row_num += 1"
   ]
  },
  {
   "cell_type": "code",
   "execution_count": null,
   "metadata": {},
   "outputs": [],
   "source": [
    "# pdf 파일 있는지 체크\n",
    "for ef in os.listdir(hsecg_data_dir):\n",
    "    sub_dir = os.path.join(hsecg_data_dir, ef)\n",
    "    if len(os.listdir(sub_dir)) == 0:\n",
    "            print(\"no file exists\", ef) # 폴더에 파일이 아예 없다면...\n",
    "    pdf_file_num = 0\n",
    "    for file in os.listdir(sub_dir):\n",
    "        if file[-3:] == \"pdf\":\n",
    "            pdf_file_num += 1\n",
    "            #print(file[-3:])\n",
    "        else:\n",
    "            print(\"not a pdf file\", file) # 파일 확장명이 pdf가 아니면 파일명 출력\n",
    "        if file == os.listdir(sub_dir)[-1] and pdf_file_num > 1:\n",
    "            print(\"not 1\", ef) # pdf 파일이 1개가 아니라면 출력"
   ]
  },
  {
   "cell_type": "code",
   "execution_count": null,
   "metadata": {},
   "outputs": [],
   "source": [
    "# jpg 파일이 있는지 체크\n",
    "for ef in os.listdir(hsecg_data_dir):\n",
    "    sub_dir = os.path.join(hsecg_data_dir, ef)\n",
    "    if len(os.listdir(sub_dir)) == 0:\n",
    "            print(\"no file exists\", ef) # 폴더에 파일이 아예 없다면...\n",
    "    jpg_file_num = 0\n",
    "    for file in os.listdir(sub_dir):\n",
    "        if file.rsplit('.')[1].lower() == \"jpg\" or file.rsplit('.')[1].lower() == \"jpeg\":\n",
    "            jpg_file_num += 1\n",
    "            #print(file[-3:])\n",
    "        else:\n",
    "            print(\"not a jpg file\", file) # 파일 확장명이 pdf가 아니면 파일명 출력\n",
    "        if file == os.listdir(sub_dir)[-1] and jpg_file_num != 1:\n",
    "            print(\"not 1\", ef) # 파일이 1개가 아니라면 출력"
   ]
  },
  {
   "cell_type": "code",
   "execution_count": null,
   "metadata": {},
   "outputs": [],
   "source": [
    "# jpg 파일이 있는지 체크\n",
    "for ef in os.listdir(hsecg_data_dir):\n",
    "    sub_dir = os.path.join(hsecg_data_dir, ef)\n",
    "    if len(os.listdir(sub_dir)) == 0:\n",
    "            print(\"no file exists\", ef) # 폴더에 파일이 아예 없다면...\n",
    "    jpg_file_num = 0\n",
    "    for file in os.listdir(sub_dir):\n",
    "        if file.rsplit('.')[1].lower() == \"jpg\" or file.rsplit('.')[1].lower() == \"jpeg\":\n",
    "            file_dir = os.path.join(sub_dir, file)\n",
    "            print(\"move\" + sub_dir + \"/\" + file + \" to \" + hsecg_data_jpg_dir + file)\n",
    "            shutil.move(sub_dir + \"/\" + file, hsecg_data_jpg_dir + file)"
   ]
  },
  {
   "cell_type": "code",
   "execution_count": null,
   "metadata": {},
   "outputs": [],
   "source": [
    "#json 파일 있는지 체크\n",
    "for ef in os.listdir(hsecg_label_dir):\n",
    "    sub_dir = os.path.join(hsecg_label_dir, ef)\n",
    "    if len(os.listdir(sub_dir)) == 0:\n",
    "            print(\"no file exists\", ef) # 폴더에 파일이 아예 없다면...\n",
    "    json_file_num = 0\n",
    "    for file in os.listdir(sub_dir):\n",
    "        if file[-4:] == \"json\":\n",
    "            json_file_num += 1\n",
    "            #print(file[-4:])\n",
    "        else:\n",
    "            print(\"not a json file\", ef, file) # 파일 확장명이 json이 아니면 폴더명, 파일명 출력\n",
    "        if file == os.listdir(sub_dir)[-1] and json_file_num != 1:\n",
    "            print(\"not 1 jsons\", ef) # 파일이 1개가 아니라면 출력\n",
    "        if os.listdir(sub_dir)[0] != os.listdir(sub_dir)[-1]:\n",
    "            print(\"not 1 files\", ef)"
   ]
  },
  {
   "cell_type": "code",
   "execution_count": null,
   "metadata": {},
   "outputs": [],
   "source": [
    "os.listdir(hsecg_label_dir)[0]"
   ]
  },
  {
   "cell_type": "code",
   "execution_count": null,
   "metadata": {},
   "outputs": [],
   "source": [
    "# 과연 라벨링된 번호와 실제 심전도 진단명은 일치할까요...?\n",
    "\n",
    "from PIL import Image\n",
    "\n",
    "import pytesseract\n",
    "import json\n",
    "\n",
    "# If you don't have tesseract executable in your PATH, include the following:\n",
    "pytesseract.pytesseract.tesseract_cmd = r'C:\\Program Files\\Tesseract-OCR\\tesseract'\n",
    "# Example tesseract_cmd = r'C:\\Program Files (x86)\\Tesseract-OCR\\tesseract'\n",
    "\n",
    "#ecg_dignosis_name = [\"sinus rhythm\", \"atrial fibrillation\", \"bundle branch block\"]\n",
    "ecg_dignosis_name = [\"sinus\", \"atrial fibrillation\", \"bundle branch block\"]\n",
    "ecg_label_dic = {\"sinus rhythm\":1, \"atrial fibrillation\":2, \"bundle branch block\":3, \"others\":4, \"cannot analyze\":5}\n",
    "\n",
    "row_num = 2\n",
    "for i in range(len(os.listdir(hsecg_data_dir))):\n",
    "    #print(os.listdir(hsecg_data_dir)[i]) # hsecg_00001_01\n",
    "    #print(os.listdir(hsecg_label_dir)[i]) # hsecg_00001_01\n",
    "    df = os.listdir(hsecg_data_dir)[i]\n",
    "    lf = os.listdir(hsecg_label_dir)[i]\n",
    "    data_sub_dir = os.path.join(hsecg_data_dir, df)\n",
    "    label_sub_dir = os.path.join(hsecg_label_dir, lf)\n",
    "    #print(data_sub_dir) # ./hsecg_data/1_yongin_hsecg/hsecg_00001_01\n",
    "    #print(label_sub_dir) # ./hsecg_label/1_yongin_hsecg/hsecg_00001_01\n",
    "    \n",
    "    \n",
    "    final_dignosis = \"\"\n",
    "    full_dignosis = \"\"\n",
    "    \n",
    "    img_to_txt = pytesseract.image_to_string(Image.open(data_sub_dir + \"/\" + df + \".jpg\"))\n",
    "    for dignosis in ecg_dignosis_name:\n",
    "        if (final_dignosis == \"\") and (dignosis in img_to_txt.lower()) and not(\"has replaced\" in img_to_txt.lower()):\n",
    "            print(\"file name =\", df, \",\", dignosis, \"in\", img_to_txt)\n",
    "            final_dignosis = dignosis\n",
    "            full_dignosis = img_to_txt\n",
    "    if final_dignosis == \"sinus\":\n",
    "        final_dignosis = \"sinus rhythm\"\n",
    "    elif final_dignosis == \"\":\n",
    "        final_dignosis = \"others\"\n",
    "        print(\"file name =\", df, \",\", final_dignosis)\n",
    "        \n",
    "    pdf_label = ecg_label_dic[final_dignosis]\n",
    "    print(\"pdf_label=\", pdf_label) # pdf_label= 1\n",
    "    \n",
    "    # json 파일 읽기\n",
    "    with open(label_sub_dir + \"/\" + lf + \".json\", \"r\", encoding=\"utf8\") as f:\n",
    "        contents = f.read()\n",
    "        json_data = json.loads(contents)\n",
    "    json_label = json_data[\"labels\"]\n",
    "    print(\"json_label=\", json_label) # json_label= 1\n",
    "    \n",
    "    if pdf_label != json_label:\n",
    "        print(\"labels do not match\", df)\n",
    "        ws.cell(row=row_num, column=1, value=df)\n",
    "        ws.cell(row=row_num, column=2, value=pdf_label)\n",
    "        ws.cell(row=row_num, column=3, value=json_label)\n",
    "        ws.cell(row=row_num, column=4, value=full_dignosis)\n",
    "        row_num += 1"
   ]
  },
  {
   "cell_type": "code",
   "execution_count": null,
   "metadata": {},
   "outputs": [],
   "source": [
    "# excel 내용 다시 출력하여 수정사항 체크\n",
    "row_num = 1 # excel row number\n",
    "for row in ws.values:\n",
    "    print(row_num, end=\"\\t\")\n",
    "    for i in range(len(row)):\n",
    "        print(row[i], end='\\t')\n",
    "    print()\n",
    "    row_num += 1"
   ]
  },
  {
   "cell_type": "code",
   "execution_count": null,
   "metadata": {},
   "outputs": [],
   "source": [
    "# save excel file (수정한 것을 적용)\n",
    "wb.save(wb_file_name + \"_완료.xlsx\")"
   ]
  },
  {
   "cell_type": "code",
   "execution_count": null,
   "metadata": {},
   "outputs": [],
   "source": []
  },
  {
   "cell_type": "code",
   "execution_count": null,
   "metadata": {},
   "outputs": [],
   "source": []
  },
  {
   "cell_type": "code",
   "execution_count": null,
   "metadata": {},
   "outputs": [],
   "source": [
    "from PIL import Image\n",
    "\n",
    "import pytesseract\n",
    "\n",
    "# If you don't have tesseract executable in your PATH, include the following:\n",
    "pytesseract.pytesseract.tesseract_cmd = r'C:\\Program Files\\Tesseract-OCR\\tesseract'\n",
    "# Example tesseract_cmd = r'C:\\Program Files (x86)\\Tesseract-OCR\\tesseract'\n",
    "\n",
    "# Simple image to string\n",
    "print(pytesseract.image_to_string(Image.open(hsecg_data_jpg_dir + 'hsecg_04253_01.jpg')))"
   ]
  },
  {
   "cell_type": "markdown",
   "metadata": {},
   "source": [
    "잘 안되네요... 그냥 출력해서 봅시다"
   ]
  },
  {
   "cell_type": "code",
   "execution_count": null,
   "metadata": {
    "scrolled": false
   },
   "outputs": [],
   "source": [
    "# json label에 5 cannot analyze가 있는지 봅시다...\n",
    "\n",
    "import json\n",
    "\n",
    "for i in range(len(os.listdir(hsecg_label_dir))):\n",
    "    lf = os.listdir(hsecg_label_dir)[i]\n",
    "    label_sub_dir = os.path.join(hsecg_label_dir, lf)\n",
    "    with open(label_sub_dir + \"/\" + lf + \".json\", \"r\", encoding=\"utf8\") as f:\n",
    "        contents = f.read() # string 타입\n",
    "        json_data = json.loads(contents)\n",
    "    ecg_label = json_data[\"labels\"]\n",
    "    print(lf, ecg_label)\n",
    "    print()"
   ]
  },
  {
   "cell_type": "code",
   "execution_count": null,
   "metadata": {},
   "outputs": [],
   "source": []
  }
 ],
 "metadata": {
  "kernelspec": {
   "display_name": "Python 3",
   "language": "python",
   "name": "python3"
  },
  "language_info": {
   "codemirror_mode": {
    "name": "ipython",
    "version": 3
   },
   "file_extension": ".py",
   "mimetype": "text/x-python",
   "name": "python",
   "nbconvert_exporter": "python",
   "pygments_lexer": "ipython3",
   "version": "3.8.5"
  }
 },
 "nbformat": 4,
 "nbformat_minor": 5
}
