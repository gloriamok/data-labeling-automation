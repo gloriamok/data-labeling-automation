{
 "cells": [
  {
   "cell_type": "code",
   "execution_count": null,
   "metadata": {},
   "outputs": [],
   "source": [
    "import os\n",
    "\n",
    "os.listdir()"
   ]
  },
  {
   "cell_type": "code",
   "execution_count": null,
   "metadata": {},
   "outputs": [],
   "source": [
    "len(os.listdir())"
   ]
  },
  {
   "cell_type": "code",
   "execution_count": null,
   "metadata": {},
   "outputs": [],
   "source": [
    "def replace_in_file(file_path, old_str, new_str):\n",
    "    # 파일 읽어들이기\n",
    "    fr = open(file_path, 'r')\n",
    "    lines = fr.readlines()\n",
    "    fr.close()\n",
    "    \n",
    "    # old_str -> new_str 치환\n",
    "    fw = open(file_path, 'w')\n",
    "    for line in lines:\n",
    "        fw.write(line.replace(old_str, new_str))\n",
    "    fw.close()"
   ]
  },
  {
   "cell_type": "code",
   "execution_count": null,
   "metadata": {},
   "outputs": [],
   "source": [
    "# 유관데이터 매칭해서 폴더에 넣기\n",
    "\n",
    "import os\n",
    "import shutil\n",
    "\n",
    "respiratory_dir = \"./RespiratorySound/\"\n",
    "cxr_dir = \"./CXR/1_complete/\"\n",
    "\n",
    "for rf in os.listdir(respiratory_dir):\n",
    "    for cf in os.listdir(cxr_dir):\n",
    "        if rf.rsplit('_')[0] == cf.rsplit('_')[0]:\n",
    "            sub_dir = os.path.join(cxr_dir, cf)\n",
    "            #print(sub_dir) # ./CXR/1_complete/163989_20220723\n",
    "            for file in os.listdir(sub_dir):\n",
    "                #print(file) # 163989_20220723090406_1.jpg\n",
    "                print(sub_dir + \"/\" + file + \" to \" + respiratory_dir + rf + \"/\" + file)\n",
    "                shutil.move(sub_dir + \"/\" + file, respiratory_dir + rf + \"/\" + file)\n",
    "            replace_in_file(\"cxr_list.txt\", cf, \"\") # 텍스트 파일에서 매칭된 폴더명 삭제 \n",
    "            replace_in_file(\"respiratory_list.txt\", rf, \"\")"
   ]
  },
  {
   "cell_type": "code",
   "execution_count": null,
   "metadata": {},
   "outputs": [],
   "source": [
    "# 매칭안된 cxr 데이터\n",
    "for cf in os.listdir(cxr_dir):\n",
    "    sub_dir = os.path.join(cxr_dir, cf)\n",
    "    if len(os.listdir(sub_dir)) != 0:\n",
    "        print(sub_dir)"
   ]
  },
  {
   "cell_type": "code",
   "execution_count": null,
   "metadata": {},
   "outputs": [],
   "source": [
    "# 매칭 안된 cxr 데이터 해당 폴더로 이동\n",
    "for cf in os.listdir(cxr_dir):\n",
    "    sub_dir = os.path.join(cxr_dir, cf)\n",
    "    if len(os.listdir(sub_dir)) != 0:\n",
    "        print(sub_dir)\n",
    "        print(\"move\" + sub_dir + \" to \" + cxr_dir + \"매칭안된 CXR\" + \"/\" + cf)\n",
    "        shutil.move(sub_dir, cxr_dir + \"매칭안된 CXR\" + \"/\" + cf)"
   ]
  },
  {
   "cell_type": "code",
   "execution_count": null,
   "metadata": {},
   "outputs": [],
   "source": [
    "# 매칭안된 호흡음 데이터 해당 폴더로 이동\n",
    "\n",
    "\n",
    "# open text file\n",
    "f = open(\"respiratory_list.txt\", 'r')\n",
    "lines = f.readlines()\n",
    "\n",
    "\n",
    "nomatch_respiratory_dir = \"./매칭안된 호흡읍/\"\n",
    "\n",
    "for line in lines:\n",
    "    line = line.strip() # 줄 끝의 줄 바꿈 문자를 제거한다.\n",
    "    print(line)\n",
    "    for rf in os.listdir(respiratory_dir):\n",
    "        if rf == line:\n",
    "            sub_dir = os.path.join(respiratory_dir, rf)\n",
    "            print(\"move\" + sub_dir + \" to \" + nomatch_respiratory_dir + rf)\n",
    "            shutil.move(sub_dir, nomatch_respiratory_dir + rf)\n",
    "            replace_in_file(\"respiratory_list.txt\", rf, \"\")"
   ]
  },
  {
   "cell_type": "code",
   "execution_count": null,
   "metadata": {},
   "outputs": [],
   "source": []
  }
 ],
 "metadata": {
  "kernelspec": {
   "display_name": "Python 3",
   "language": "python",
   "name": "python3"
  },
  "language_info": {
   "codemirror_mode": {
    "name": "ipython",
    "version": 3
   },
   "file_extension": ".py",
   "mimetype": "text/x-python",
   "name": "python",
   "nbconvert_exporter": "python",
   "pygments_lexer": "ipython3",
   "version": "3.8.5"
  }
 },
 "nbformat": 4,
 "nbformat_minor": 5
}
