{
 "cells": [
  {
   "cell_type": "markdown",
   "metadata": {},
   "source": [
    "### Import libraries"
   ]
  },
  {
   "cell_type": "code",
   "execution_count": null,
   "metadata": {},
   "outputs": [],
   "source": [
    "# import libraries\n",
    "\n",
    "# excel (.xlsx) file\n",
    "from openpyxl import load_workbook\n",
    "\n",
    "# json file\n",
    "import json\n",
    "\n",
    "# directory 사용\n",
    "import os\n",
    "\n",
    "# 파일/폴더 이동, 제거\n",
    "import shutil\n",
    "\n",
    "# numpy\n",
    "import numpy as np\n",
    "\n"
   ]
  },
  {
   "cell_type": "code",
   "execution_count": null,
   "metadata": {},
   "outputs": [],
   "source": []
  },
  {
   "cell_type": "markdown",
   "metadata": {},
   "source": [
    "### Excel files"
   ]
  },
  {
   "cell_type": "code",
   "execution_count": null,
   "metadata": {},
   "outputs": [],
   "source": [
    "# open excel file\n",
    "wb_file_name = \"excel_file_name\"\n",
    "wb = load_workbook(wb_file_name + \".xlsx\" , data_only=True )\n",
    "ws = wb.active\n",
    "\n",
    "# print excel file (엑셀 내용 출력)\n",
    "row_num = 1 # excel row number\n",
    "for row in ws.values:\n",
    "    print(row_num, end=\"\\t\")\n",
    "    for i in range(len(row)):\n",
    "        print(row[i], end=\"\\t\")\n",
    "    print()\n",
    "    row_num += 1"
   ]
  },
  {
   "cell_type": "code",
   "execution_count": null,
   "metadata": {},
   "outputs": [],
   "source": [
    "# 엑셀의 2번째 열만 출력\n",
    "for row in ws.values:\n",
    "    print(row[1])"
   ]
  },
  {
   "cell_type": "code",
   "execution_count": null,
   "metadata": {},
   "outputs": [],
   "source": [
    "# edit excel file\n",
    "# 엑셀 파일 수정 - 2번째 열의 공백 제거\n",
    "row_num = 1\n",
    "for row in ws.values:\n",
    "    if row[1] == \" PID / NAME MISMATCH \": # \" PID / NAME MISMATCH \" 진단명의 맨앞 공백 1칸을 제거함\n",
    "        print(\"1\")\n",
    "        ws.cell(row=row_num, column=2, value=row[1][1:])\n",
    "    elif row[1] != \"diagnosis\": # 첫번째 행은 머리글 - \"diagnosis\" 라는 머리글 제외하고 진단명의 맨앞 공백 2칸을 제거함\n",
    "        print(\"2\")\n",
    "        ws.cell(row=row_num, column=2, value=row[1][2:])\n",
    "    row_num += 1"
   ]
  },
  {
   "cell_type": "code",
   "execution_count": null,
   "metadata": {},
   "outputs": [],
   "source": [
    "# edit excel file\n",
    "# 엑셀 파일 수정 - 파일 이름에 진단명 넣기\n",
    "\n",
    "row_num = 1 # excel row number\n",
    "for rf in os.listdir(hsecg_data_dir):\n",
    "    print(rf) # rs_10001_01\n",
    "    #print(\"row=\", row_num, \"column=\", 1, \"value=\", rf)\n",
    "    #ws.cell(row=row_num, column=1, value=rf)\n",
    "    sub_dir = os.path.join(hsecg_data_dir, rf)\n",
    "    print(\"sub_dir\", sub_dir) # ./1_yoingin_respiratory_sound/rs_10001_01\n",
    "    for file in os.listdir(sub_dir):\n",
    "        print(\"row=\", row_num, \"column=\", 1, \"value=\", file)\n",
    "        ws.cell(row=row_num, column=1, value=file)\n",
    "        row_num += 1\n",
    "    print()"
   ]
  },
  {
   "cell_type": "code",
   "execution_count": null,
   "metadata": {},
   "outputs": [],
   "source": [
    "# edit excel file\n",
    "# 엑셀 파일 수정 - get_list_of_respiratory_sound_files\n",
    "line_num = 1\n",
    "for i in os.listdir():\n",
    "    print(i)\n",
    "    if i == \"yongin_ecg_diagnosis.xlsx\" or i == \".ipynb_checkpoints\" or i == \"20221110.ipynb\": # ecg 파일이 아닐 경우 스킵합니다!\n",
    "        print(\"skip!\\n\")\n",
    "    else:\n",
    "        j = i[:-4] # \".pdf\" 지우기\n",
    "        print(j)\n",
    "        row_num = 1\n",
    "        for row in ws.values:\n",
    "            if str(row[0]) == j: # pid가 매칭될 경우\n",
    "                if row[1] != \"PID / NAME MISMATCH \": # 진단명이 \"PID / NAME MISMATCH \"일 경우 빼고!\n",
    "                    os.rename(i, j + \"_\" + row[1] + \".pdf\")\n",
    "                    print(line_num, row_num, i, \"완료\")\n",
    "            row_num += 1\n",
    "    line_num += 1"
   ]
  },
  {
   "cell_type": "code",
   "execution_count": null,
   "metadata": {},
   "outputs": [],
   "source": [
    "# save excel file (수정한 것을 적용)\n",
    "wb.save(wb_file_name + \"_completed.xlsx\")"
   ]
  },
  {
   "cell_type": "code",
   "execution_count": null,
   "metadata": {},
   "outputs": [],
   "source": []
  },
  {
   "cell_type": "markdown",
   "metadata": {},
   "source": [
    "### Text files"
   ]
  },
  {
   "cell_type": "code",
   "execution_count": null,
   "metadata": {},
   "outputs": [],
   "source": []
  },
  {
   "cell_type": "code",
   "execution_count": null,
   "metadata": {},
   "outputs": [],
   "source": [
    "def replace_in_file(file_path, old_str, new_str):\n",
    "    # 파일 읽어들이기\n",
    "    fr = open(file_path, 'r')\n",
    "    lines = fr.readlines()\n",
    "    fr.close()\n",
    "    \n",
    "    # old_str -> new_str 치환\n",
    "    fw = open(file_path, 'w')\n",
    "    for line in lines:\n",
    "        fw.write(line.replace(old_str, new_str))\n",
    "    fw.close()"
   ]
  },
  {
   "cell_type": "code",
   "execution_count": null,
   "metadata": {},
   "outputs": [],
   "source": [
    "# open text file\n",
    "f = open(\"text_file_name.txt\", 'r')\n",
    "lines = f.readlines()"
   ]
  },
  {
   "cell_type": "code",
   "execution_count": null,
   "metadata": {},
   "outputs": [],
   "source": [
    "# close text file\n",
    "f.close()"
   ]
  },
  {
   "cell_type": "code",
   "execution_count": null,
   "metadata": {},
   "outputs": [],
   "source": []
  },
  {
   "cell_type": "markdown",
   "metadata": {},
   "source": [
    "### Json files"
   ]
  },
  {
   "cell_type": "code",
   "execution_count": null,
   "metadata": {},
   "outputs": [],
   "source": [
    "# txt 파일명에서 볼 수 있는 진단된 label을 (ex. 0 (=normal))\n",
    "# 진단명에 맞게 json의 label에 넣기\n",
    "# 단, json의 label이 99일 때만!\n",
    "\n",
    "respiratory_dir = \"./respiratory_sound/\"\n",
    "\n",
    "for rf in os.listdir(respiratory_dir):\n",
    "    sub_dir = os.path.join(respiratory_dir, rf)\n",
    "    with open(sub_dir + \"/\" + rf + \".json\", \"r+\", encoding=\"utf8\") as f:\n",
    "        json_data = json.load(f)\n",
    "        print(\"before=\", json_data)\n",
    "        json_data_rf = json_data[\"respiratory_files\"] # unpacking json_data and reading labels in json_data in json file\n",
    "        #print(json_data_rf)\n",
    "        for i, data in enumerate(json_data_rf):\n",
    "            if (data[0][\"label\"] == 99):\n",
    "                for file in os.listdir(sub_dir):\n",
    "                    #print(file[-3:])\n",
    "                    #print(file[:-6])\n",
    "                    if file[-3:] == \"txt\" and file[:16] == data[0][\"id\"]:\n",
    "                        txt_label = file.rsplit('_')[-1][:-4]\n",
    "                        #print(txt_label)\n",
    "                        #print(\"before=\", json_data[\"respiratory_files\"][i][0][\"label\"])\n",
    "                        json_data[\"respiratory_files\"][i][0][\"label\"] = int(txt_label)\n",
    "                        #print(\"after=\", json_data[\"respiratory_files\"][i][0][\"label\"])\n",
    "\n",
    "    print(\"after=\", json_data)\n",
    "    print()\n",
    "    \n",
    "    after_file = open(sub_dir + \"/\" + rf + \".json\", \"w\", encoding=\"utf8\")\n",
    "    json.dump(json_data, after_file, indent=4)\n",
    "    after_file.close()"
   ]
  },
  {
   "cell_type": "code",
   "execution_count": null,
   "metadata": {},
   "outputs": [],
   "source": []
  },
  {
   "cell_type": "markdown",
   "metadata": {},
   "source": [
    "### 파일 개수 확인하기"
   ]
  },
  {
   "cell_type": "code",
   "execution_count": null,
   "metadata": {},
   "outputs": [],
   "source": [
    "# 각 PID 별 호흡음 파일이 4개 이상 있는지 확인\n",
    "\n",
    "hsecg_data_dir = \"./\" + \"4_smartsound_respiratory_sound\" + \"/\"\n",
    "\n",
    "for rf in os.listdir(hsecg_data_dir):\n",
    "    sub_dir = os.path.join(hsecg_data_dir, rf)\n",
    "    # print(\"sub_dir\", sub_dir) # ./1_yoingin_respiratory_sound/rs_10001_01\n",
    "    wav_file_num = 0\n",
    "    if len(os.listdir(sub_dir)) == 0:\n",
    "        print(\"no file exists\", rf) # 폴더에 파일이 아예 없다면...\n",
    "    for file in os.listdir(sub_dir):\n",
    "        #print(file[-3:]) # wav\n",
    "        if file[-3:] == \"wav\":\n",
    "            wav_file_num += 1\n",
    "        else:\n",
    "            print(file) # 파일 확장명이 wav가 아니면 파일명 출력\n",
    "        if file == os.listdir(sub_dir)[-1] and wav_file_num < 4:\n",
    "            print(\"less than 4 wav files\", rf) # 호흡음 파일이 4개 미만이라면 출력\n",
    "    if (wav_file_num == 12): # 호흡음 파일이 12개라면 출력\n",
    "        print(rf)"
   ]
  },
  {
   "cell_type": "code",
   "execution_count": null,
   "metadata": {},
   "outputs": [],
   "source": []
  },
  {
   "cell_type": "markdown",
   "metadata": {},
   "source": [
    "### 폴더 지우기"
   ]
  },
  {
   "cell_type": "code",
   "execution_count": null,
   "metadata": {},
   "outputs": [],
   "source": [
    "# 날짜있는 폴더가 2개 있는 것 중 아래 폴더 지우기\n",
    "\n",
    "root_dir = \"./RespiratorySound/\"  \n",
    "files = os.listdir(root_dir)   \n",
    "for file in files:\n",
    "    sub_dir = os.path.join(root_dir, file) # sub_dir = root_dir + file\n",
    "    #print(sub_dir) # ./RespiratorySound/1427458\n",
    "    sub_files = os.listdir(sub_dir)\n",
    "    for sub_file in sub_files:\n",
    "        sub_2_dir = os.path.join(sub_dir, sub_file) # sub_2_dir = sub_dir + sub_file\n",
    "        #print(sub_2_dir) # ./RespiratorySound/1427458\\Lung Sound (폐음)\n",
    "        sub_2_files = os.listdir(sub_2_dir)\n",
    "        #print(sub_2_files)\n",
    "        if len(sub_2_files) != 1:\n",
    "            #print(sub_2_files)\n",
    "            #print(sub_2_dir)\n",
    "            i = 1\n",
    "            for sub_2_file in sub_2_files:\n",
    "                path = os.path.join(sub_2_dir, sub_2_file)\n",
    "                print(path) # ./RespiratorySound/1427458\\Lung Sound (폐음)\\2022-07-28-140453\n",
    "                if i == 2: # 두 번째 폴더 지우기\n",
    "                    print(\"remove\", path) # remove ./RespiratorySound/1427458\\Lung Sound (폐음)\\2022-07-28-141444\n",
    "                    shutil.rmtree(path) # 폴더와 그 안의 파일 모두 삭제\n",
    "                i += 1\n",
    "            print()"
   ]
  }
 ],
 "metadata": {
  "kernelspec": {
   "display_name": "Python 3",
   "language": "python",
   "name": "python3"
  },
  "language_info": {
   "codemirror_mode": {
    "name": "ipython",
    "version": 3
   },
   "file_extension": ".py",
   "mimetype": "text/x-python",
   "name": "python",
   "nbconvert_exporter": "python",
   "pygments_lexer": "ipython3",
   "version": "3.8.5"
  }
 },
 "nbformat": 4,
 "nbformat_minor": 5
}
